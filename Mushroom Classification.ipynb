{
 "cells": [
  {
   "cell_type": "code",
   "execution_count": 19,
   "id": "00f9808a",
   "metadata": {},
   "outputs": [],
   "source": [
    "import pandas as pd\n",
    "import numpy as np\n",
    "from sklearn import preprocessing\n",
    "from sklearn.model_selection import train_test_split\n",
    "from sklearn.ensemble import RandomForestClassifier\n",
    "from sklearn.feature_selection import RFE"
   ]
  },
  {
   "cell_type": "code",
   "execution_count": 20,
   "id": "da40b9e0",
   "metadata": {},
   "outputs": [],
   "source": [
    "# loading in data\n",
    "df = pd.read_csv(\"/Users/cartermain/Downloads/mushroom.csv\")"
   ]
  },
  {
   "cell_type": "code",
   "execution_count": 86,
   "id": "305b850a",
   "metadata": {},
   "outputs": [
    {
     "name": "stdout",
     "output_type": "stream",
     "text": [
      "cap-shape                         0\n",
      "cap-surface                       0\n",
      "cap-color                         0\n",
      "bruises%3F                        0\n",
      "odor                              0\n",
      "gill-attachment                   0\n",
      "gill-spacing                      0\n",
      "gill-size                         0\n",
      "gill-color                        0\n",
      "stalk-shape                       0\n",
      "stalk-root                        0\n",
      "stalk-surface-above-ring          0\n",
      "stalk-surface-below-ring          0\n",
      "stalk-color-above-ring            0\n",
      "stalk-color-below-ring            0\n",
      "veil-type                         0\n",
      "veil-color                        0\n",
      "ring-number                       0\n",
      "ring-type                         0\n",
      "spore-print-color                 0\n",
      "population                        0\n",
      "habitat                           0\n",
      "class                             0\n",
      "cap-shape_class                   0\n",
      "cap-surface_class                 0\n",
      "cap-color_class                   0\n",
      "bruises%3F_class                  0\n",
      "odor_class                        0\n",
      "gill-attachment_class             0\n",
      "gill-spacing_class                0\n",
      "gill-size_class                   0\n",
      "gill-color_class                  0\n",
      "stalk-shape_class                 0\n",
      "stalk-root_class                  0\n",
      "stalk-surface-above-ring_class    0\n",
      "stalk-surface-below-ring_class    0\n",
      "stalk-color-above-ring_class      0\n",
      "stalk-color-below-ring_class      0\n",
      "veil-type_class                   0\n",
      "veil-color_class                  0\n",
      "ring-number_class                 0\n",
      "ring-type_class                   0\n",
      "spore-print-color_class           0\n",
      "population_class                  0\n",
      "habitat_class                     0\n",
      "class_class                       0\n",
      "dtype: int64\n"
     ]
    }
   ],
   "source": [
    "# counting null values\n",
    "print(df.isnull().sum())"
   ]
  },
  {
   "cell_type": "code",
   "execution_count": 23,
   "id": "c45035a2",
   "metadata": {},
   "outputs": [],
   "source": [
    "# using labelencoder to turn object dtypes into integers\n",
    "le = preprocessing.LabelEncoder()\n",
    "for feature in df.columns:\n",
    "    df[feature + \"_class\"] = le.fit_transform(df[feature])"
   ]
  },
  {
   "cell_type": "code",
   "execution_count": 87,
   "id": "00125ab8",
   "metadata": {},
   "outputs": [
    {
     "name": "stdout",
     "output_type": "stream",
     "text": [
      "  cap-shape cap-surface cap-color bruises%3F  odor gill-attachment  \\\n",
      "0      b'x'        b's'      b'n'       b't'  b'p'            b'f'   \n",
      "1      b'x'        b's'      b'y'       b't'  b'a'            b'f'   \n",
      "2      b'b'        b's'      b'w'       b't'  b'l'            b'f'   \n",
      "3      b'x'        b'y'      b'w'       b't'  b'p'            b'f'   \n",
      "4      b'x'        b's'      b'g'       b'f'  b'n'            b'f'   \n",
      "\n",
      "  gill-spacing gill-size gill-color stalk-shape  ...  \\\n",
      "0         b'c'      b'n'       b'k'        b'e'  ...   \n",
      "1         b'c'      b'b'       b'k'        b'e'  ...   \n",
      "2         b'c'      b'b'       b'n'        b'e'  ...   \n",
      "3         b'c'      b'n'       b'n'        b'e'  ...   \n",
      "4         b'w'      b'b'       b'k'        b't'  ...   \n",
      "\n",
      "  stalk-color-above-ring_class stalk-color-below-ring_class veil-type_class  \\\n",
      "0                            7                            7               0   \n",
      "1                            7                            7               0   \n",
      "2                            7                            7               0   \n",
      "3                            7                            7               0   \n",
      "4                            7                            7               0   \n",
      "\n",
      "  veil-color_class ring-number_class ring-type_class spore-print-color_class  \\\n",
      "0                2                 1               4                       2   \n",
      "1                2                 1               4                       3   \n",
      "2                2                 1               4                       3   \n",
      "3                2                 1               4                       2   \n",
      "4                2                 1               0                       3   \n",
      "\n",
      "  population_class habitat_class class_class  \n",
      "0                3             5           1  \n",
      "1                2             1           0  \n",
      "2                2             3           0  \n",
      "3                3             5           1  \n",
      "4                0             1           0  \n",
      "\n",
      "[5 rows x 46 columns]\n"
     ]
    }
   ],
   "source": [
    "# inspecting dataframe after creating new columns\n",
    "print(df.head())"
   ]
  },
  {
   "cell_type": "code",
   "execution_count": 25,
   "id": "5419a37d",
   "metadata": {},
   "outputs": [],
   "source": [
    "# collecting feature names of newly-created integer classifications\n",
    "feature_names = []\n",
    "for feature in df.columns:\n",
    "    if \"_class\" in feature:\n",
    "        feature_names.append(feature)"
   ]
  },
  {
   "cell_type": "code",
   "execution_count": 26,
   "id": "5bf759d6",
   "metadata": {},
   "outputs": [],
   "source": [
    "# creating feature set\n",
    "features = df[feature_names]"
   ]
  },
  {
   "cell_type": "code",
   "execution_count": 27,
   "id": "2c10051b",
   "metadata": {},
   "outputs": [],
   "source": [
    "# dropping classification column\n",
    "features = features.drop(columns = \"class_class\")"
   ]
  },
  {
   "cell_type": "code",
   "execution_count": 29,
   "id": "fb844bf2",
   "metadata": {},
   "outputs": [],
   "source": [
    "# train test splitting\n",
    "x_train, x_test, y_train, y_test = train_test_split(features, df[\"class_class\"], train_size = 0.7, random_state = 42)"
   ]
  },
  {
   "cell_type": "code",
   "execution_count": 30,
   "id": "7f1eb5c9",
   "metadata": {},
   "outputs": [
    {
     "name": "stdout",
     "output_type": "stream",
     "text": [
      "1.0\n"
     ]
    }
   ],
   "source": [
    "# fitting and scoring model\n",
    "model = RandomForestClassifier(n_estimators = 10, random_state = 42)\n",
    "model.fit(x_train, y_train)\n",
    "print(model.score(x_test, y_test))"
   ]
  },
  {
   "cell_type": "markdown",
   "id": "b1c34c6a",
   "metadata": {},
   "source": [
    "Let's run a feature elimination to see if we can get the number of features this model takes down while maintining 100% accuracy to increase efficiency."
   ]
  },
  {
   "cell_type": "code",
   "execution_count": 34,
   "id": "83258284",
   "metadata": {},
   "outputs": [
    {
     "name": "stdout",
     "output_type": "stream",
     "text": [
      "1.0 6 [False False False False  True False False  True  True False False False\n",
      "  True False False False False False  True  True False False]\n"
     ]
    }
   ],
   "source": [
    "max_score = 0\n",
    "best_x = 0 \n",
    "for x in range(1,len(features.columns)):\n",
    "    rfe = RFE(estimator = model, n_features_to_select = x)\n",
    "    rfe.fit(x_train, y_train)\n",
    "    score = rfe.score(x_test, y_test)\n",
    "    if score > max_score:\n",
    "        max_score = score\n",
    "        best_x = x\n",
    "        best_support = rfe.support_\n",
    "print(max_score, best_x, best_support)"
   ]
  },
  {
   "cell_type": "markdown",
   "id": "46da707b",
   "metadata": {},
   "source": [
    "Nice, we kept the accuracy and significantly reduces the number of features needed. Let's update the feature set with those 6 and retrain before dropping in some test data."
   ]
  },
  {
   "cell_type": "code",
   "execution_count": 36,
   "id": "c876f04e",
   "metadata": {},
   "outputs": [],
   "source": [
    "# collecting kept feature names\n",
    "kept_features = []\n",
    "x = 0\n",
    "for kept in best_support:\n",
    "    if kept == True:\n",
    "        kept_features.append(features.columns[x])\n",
    "    x +=1"
   ]
  },
  {
   "cell_type": "code",
   "execution_count": 38,
   "id": "e4d22d86",
   "metadata": {},
   "outputs": [],
   "source": [
    "# creating revised features dataframe\n",
    "revised_features = df[kept_features]"
   ]
  },
  {
   "cell_type": "code",
   "execution_count": 39,
   "id": "51bcd6c3",
   "metadata": {},
   "outputs": [],
   "source": [
    "# resplitting revised feature set\n",
    "x_train, x_test, y_train, y_test = train_test_split(revised_features, df[\"class_class\"], train_size = 0.7, random_state = 42)"
   ]
  },
  {
   "cell_type": "code",
   "execution_count": 40,
   "id": "faad19e3",
   "metadata": {},
   "outputs": [
    {
     "name": "stdout",
     "output_type": "stream",
     "text": [
      "1.0\n"
     ]
    }
   ],
   "source": [
    "# refitting model\n",
    "model.fit(x_train, y_train)\n",
    "print(model.score(x_test, y_test))"
   ]
  },
  {
   "cell_type": "markdown",
   "id": "1c92700d",
   "metadata": {},
   "source": [
    "As a final step, let's load some supplemental data in without an edibility classification and use our model to determine if it's edible or poisonous."
   ]
  },
  {
   "cell_type": "code",
   "execution_count": 75,
   "id": "445ca96b",
   "metadata": {},
   "outputs": [],
   "source": [
    "# loading in data\n",
    "test_data = pd.read_csv(\"/Users/cartermain/Downloads/Mushroom Test Data.csv\")"
   ]
  },
  {
   "cell_type": "code",
   "execution_count": 76,
   "id": "3f8b29b2",
   "metadata": {},
   "outputs": [],
   "source": [
    "# converting into classifications based on original dataset classifications to ensure these match what the model was trained on\n",
    "for feature in test_data.columns:\n",
    "    le.fit(df[feature])\n",
    "    test_data[feature + \"_class\"] = le.transform(test_data[feature])"
   ]
  },
  {
   "cell_type": "code",
   "execution_count": 77,
   "id": "dd215af2",
   "metadata": {},
   "outputs": [],
   "source": [
    "# collecting name of newly created columns\n",
    "class_test_data = []\n",
    "for feature in test_data.columns:\n",
    "    if \"_class\" in feature:\n",
    "        class_test_data.append(feature)"
   ]
  },
  {
   "cell_type": "code",
   "execution_count": 85,
   "id": "5aab832a",
   "metadata": {},
   "outputs": [],
   "source": [
    "# creating set of features that model will use to predict\n",
    "test_features = test_data[class_test_data]"
   ]
  },
  {
   "cell_type": "code",
   "execution_count": 80,
   "id": "d5a07410",
   "metadata": {},
   "outputs": [],
   "source": [
    "# using model to predict whether or not each of these mushrooms are edible\n",
    "test_data[\"edible?\"] = model.predict(test_features)"
   ]
  },
  {
   "cell_type": "code",
   "execution_count": 84,
   "id": "fa0a5928",
   "metadata": {},
   "outputs": [
    {
     "name": "stdout",
     "output_type": "stream",
     "text": [
      "0    0\n",
      "1    0\n",
      "2    1\n",
      "3    1\n",
      "Name: edible?, dtype: int64\n"
     ]
    }
   ],
   "source": [
    "# printing results\n",
    "print(test_data[\"edible?\"])"
   ]
  },
  {
   "cell_type": "markdown",
   "id": "c75c83eb",
   "metadata": {},
   "source": [
    "Mushrooms 0 and 1 are edible, mushrooms 2 and 3 are not"
   ]
  }
 ],
 "metadata": {
  "kernelspec": {
   "display_name": "Python 3 (ipykernel)",
   "language": "python",
   "name": "python3"
  },
  "language_info": {
   "codemirror_mode": {
    "name": "ipython",
    "version": 3
   },
   "file_extension": ".py",
   "mimetype": "text/x-python",
   "name": "python",
   "nbconvert_exporter": "python",
   "pygments_lexer": "ipython3",
   "version": "3.9.7"
  }
 },
 "nbformat": 4,
 "nbformat_minor": 5
}
