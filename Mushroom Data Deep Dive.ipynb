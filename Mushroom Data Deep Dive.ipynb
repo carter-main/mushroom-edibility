{
 "cells": [
  {
   "cell_type": "code",
   "execution_count": 30,
   "id": "a57631e2",
   "metadata": {},
   "outputs": [],
   "source": [
    "import numpy as np\n",
    "import pandas as pd\n",
    "import seaborn as sns\n",
    "from matplotlib import pyplot as plt\n",
    "from sklearn import preprocessing\n",
    "from scipy.stats import chi2_contingency"
   ]
  },
  {
   "cell_type": "code",
   "execution_count": 2,
   "id": "74ab867f",
   "metadata": {},
   "outputs": [],
   "source": [
    "# loading in dataset\n",
    "df = pd.read_csv(\"/Users/cartermain/Downloads/mushroom.csv\")"
   ]
  },
  {
   "cell_type": "code",
   "execution_count": 92,
   "id": "af75ed09",
   "metadata": {},
   "outputs": [
    {
     "name": "stdout",
     "output_type": "stream",
     "text": [
      "  cap-shape cap-surface cap-color bruises%3F  odor gill-attachment  \\\n",
      "0      b'x'        b's'      b'n'       b't'  b'p'            b'f'   \n",
      "1      b'x'        b's'      b'y'       b't'  b'a'            b'f'   \n",
      "2      b'b'        b's'      b'w'       b't'  b'l'            b'f'   \n",
      "3      b'x'        b'y'      b'w'       b't'  b'p'            b'f'   \n",
      "4      b'x'        b's'      b'g'       b'f'  b'n'            b'f'   \n",
      "\n",
      "  gill-spacing gill-size gill-color stalk-shape  ...  \\\n",
      "0         b'c'      b'n'       b'k'        b'e'  ...   \n",
      "1         b'c'      b'b'       b'k'        b'e'  ...   \n",
      "2         b'c'      b'b'       b'n'        b'e'  ...   \n",
      "3         b'c'      b'n'       b'n'        b'e'  ...   \n",
      "4         b'w'      b'b'       b'k'        b't'  ...   \n",
      "\n",
      "  stalk-color-above-ring_class stalk-color-below-ring_class veil-type_class  \\\n",
      "0                            7                            7               0   \n",
      "1                            7                            7               0   \n",
      "2                            7                            7               0   \n",
      "3                            7                            7               0   \n",
      "4                            7                            7               0   \n",
      "\n",
      "  veil-color_class ring-number_class ring-type_class spore-print-color_class  \\\n",
      "0                2                 1               4                       2   \n",
      "1                2                 1               4                       3   \n",
      "2                2                 1               4                       3   \n",
      "3                2                 1               4                       2   \n",
      "4                2                 1               0                       3   \n",
      "\n",
      "  population_class habitat_class class_class  \n",
      "0                3             5           1  \n",
      "1                2             1           0  \n",
      "2                2             3           0  \n",
      "3                3             5           1  \n",
      "4                0             1           0  \n",
      "\n",
      "[5 rows x 46 columns]\n"
     ]
    }
   ],
   "source": [
    "# getting familiar with dataset\n",
    "print(df.head())"
   ]
  },
  {
   "cell_type": "markdown",
   "id": "ac84d5ca",
   "metadata": {},
   "source": [
    "First, we need to use label encoder to turn all of our object dtypes into integers to be able to run correlations "
   ]
  },
  {
   "cell_type": "code",
   "execution_count": 8,
   "id": "41580c17",
   "metadata": {},
   "outputs": [],
   "source": [
    "# converting all objects into int classifications\n",
    "le = preprocessing.LabelEncoder()\n",
    "for feature in df.columns:\n",
    "    df[feature + \"_class\"] = le.fit_transform(df[feature])"
   ]
  },
  {
   "cell_type": "code",
   "execution_count": 10,
   "id": "84f6217e",
   "metadata": {},
   "outputs": [],
   "source": [
    "# creating df of integers\n",
    "int_features = []\n",
    "for feature in df.columns:\n",
    "    if \"_class\" in feature:\n",
    "        int_features.append(feature)"
   ]
  },
  {
   "cell_type": "code",
   "execution_count": 11,
   "id": "638c977e",
   "metadata": {},
   "outputs": [],
   "source": [
    "# collecting our integer features into a new dataset\n",
    "df_int = df[int_features]"
   ]
  },
  {
   "cell_type": "markdown",
   "id": "0fdfbf8a",
   "metadata": {},
   "source": [
    "Now that we have our features as integers we can start looking at correlations"
   ]
  },
  {
   "cell_type": "code",
   "execution_count": 18,
   "id": "fd8a55ee",
   "metadata": {},
   "outputs": [
    {
     "name": "stdout",
     "output_type": "stream",
     "text": [
      "class_class                       1.000000\n",
      "gill-size_class                   0.540024\n",
      "gill-color_class                  0.530566\n",
      "bruises%3F_class                  0.501530\n",
      "ring-type_class                   0.411771\n",
      "stalk-root_class                  0.379361\n",
      "gill-spacing_class                0.348387\n",
      "stalk-surface-above-ring_class    0.334593\n",
      "stalk-surface-below-ring_class    0.298801\n",
      "population_class                  0.298686\n",
      "habitat_class                     0.217179\n",
      "ring-number_class                 0.214366\n",
      "cap-surface_class                 0.178446\n",
      "spore-print-color_class           0.171961\n",
      "stalk-color-above-ring_class      0.154003\n",
      "stalk-color-below-ring_class      0.146730\n",
      "veil-color_class                  0.145142\n",
      "gill-attachment_class             0.129200\n",
      "stalk-shape_class                 0.102019\n",
      "odor_class                        0.093552\n",
      "cap-shape_class                   0.052951\n",
      "cap-color_class                   0.031384\n",
      "veil-type_class                        NaN\n",
      "Name: class_class, dtype: float64\n"
     ]
    }
   ],
   "source": [
    "# finding the highest-correlation features with edibility\n",
    "print(abs(df_int.corr()[\"class_class\"]).sort_values(ascending = False))"
   ]
  },
  {
   "cell_type": "markdown",
   "id": "a1d5e4df",
   "metadata": {},
   "source": [
    "Let's first look at how the edibility changes with gill size"
   ]
  },
  {
   "cell_type": "code",
   "execution_count": 29,
   "id": "0ee55d99",
   "metadata": {},
   "outputs": [
    {
     "name": "stdout",
     "output_type": "stream",
     "text": [
      "gill-size_class\n",
      "0    0.30\n",
      "1    0.89\n",
      "Name: class_class, dtype: float64\n"
     ]
    }
   ],
   "source": [
    "print(round(df[\"class_class\"].groupby(df[\"gill-size_class\"]).mean(),2))"
   ]
  },
  {
   "cell_type": "markdown",
   "id": "ae8f9545",
   "metadata": {},
   "source": [
    "This definitley appears to be a major difference with gill size 0 being a lot more likely to be edible than gill size 1. Let's confirm via chi-square test."
   ]
  },
  {
   "cell_type": "code",
   "execution_count": 93,
   "id": "3e4f0d29",
   "metadata": {},
   "outputs": [
    {
     "name": "stdout",
     "output_type": "stream",
     "text": [
      "0.0\n",
      "This is significant\n"
     ]
    }
   ],
   "source": [
    "chi2, pval, dof, expected = chi2_contingency(pd.crosstab(df[\"class_class\"], df[\"gill-size_class\"]))\n",
    "print(pval)\n",
    "print(\"This is significant\")"
   ]
  },
  {
   "cell_type": "markdown",
   "id": "24ab8843",
   "metadata": {},
   "source": [
    "Now let's check on gill color"
   ]
  },
  {
   "cell_type": "code",
   "execution_count": 95,
   "id": "a32fd30b",
   "metadata": {
    "scrolled": false
   },
   "outputs": [
    {
     "name": "stdout",
     "output_type": "stream",
     "text": [
      "gill-color_class\n",
      "0     1.00\n",
      "8     1.00\n",
      "3     0.72\n",
      "2     0.67\n",
      "7     0.43\n",
      "11    0.26\n",
      "10    0.20\n",
      "4     0.16\n",
      "5     0.11\n",
      "9     0.10\n",
      "1     0.00\n",
      "6     0.00\n",
      "Name: class_class, dtype: float64\n"
     ]
    }
   ],
   "source": [
    "print(round(df[\"class_class\"].groupby(df[\"gill-color_class\"]).mean(),2).sort_values(ascending = False))"
   ]
  },
  {
   "cell_type": "code",
   "execution_count": 96,
   "id": "71213076",
   "metadata": {},
   "outputs": [
    {
     "name": "stdout",
     "output_type": "stream",
     "text": [
      "gill colors that are 100% poisonous\n",
      "b'b', b'r'\n",
      "\n",
      "gill colors that are 100% edible\n",
      "b'e', b'o'\n"
     ]
    }
   ],
   "source": [
    "# let's find the names of the colors that are 100% and 0% poisonous\n",
    "color_le = le.fit(df[\"gill-color\"])\n",
    "print(\"gill colors that are 100% poisonous\")\n",
    "print(color_le.classes_[0] + \", \" + color_le.classes_[8])\n",
    "print(\"\")\n",
    "print(\"gill colors that are 100% edible\")\n",
    "print(color_le.classes_[1] + \", \" + color_le.classes_[6])"
   ]
  },
  {
   "cell_type": "markdown",
   "id": "26cbfcad",
   "metadata": {},
   "source": [
    "To establish significance, we'll have to use another chi-square test"
   ]
  },
  {
   "cell_type": "code",
   "execution_count": 38,
   "id": "da7cafcd",
   "metadata": {},
   "outputs": [],
   "source": [
    "chi2_2, pval_2, dof_2, expected_2 = chi2_contingency(pd.crosstab(df[\"class_class\"], df[\"gill-color_class\"]))"
   ]
  },
  {
   "cell_type": "code",
   "execution_count": 50,
   "id": "901fa435",
   "metadata": {},
   "outputs": [
    {
     "name": "stdout",
     "output_type": "stream",
     "text": [
      "0.0\n",
      "This is also significant\n"
     ]
    }
   ],
   "source": [
    "print(pval_2)\n",
    "print(\"This is also significant\")"
   ]
  },
  {
   "cell_type": "markdown",
   "id": "52d603a6",
   "metadata": {},
   "source": [
    "Now let's look at how color impacts the odor of the mushroom"
   ]
  },
  {
   "cell_type": "code",
   "execution_count": 97,
   "id": "083b890a",
   "metadata": {},
   "outputs": [
    {
     "name": "stdout",
     "output_type": "stream",
     "text": [
      "-0.39\n"
     ]
    }
   ],
   "source": [
    "# first, let's find the correlation between the two\n",
    "print(round(df_int.corr()[\"cap-color_class\"][\"odor_class\"],2))"
   ]
  },
  {
   "cell_type": "code",
   "execution_count": 100,
   "id": "31dd0d9d",
   "metadata": {},
   "outputs": [
    {
     "data": {
      "image/png": "[encoded data removed]",
      "text/plain": [
       "<Figure size 576x576 with 1 Axes>"
      ]
     },
     "metadata": {
      "needs_background": "light"
     },
     "output_type": "display_data"
    },
    {
     "data": {
      "text/plain": [
       "<Figure size 432x288 with 0 Axes>"
      ]
     },
     "metadata": {},
     "output_type": "display_data"
    }
   ],
   "source": [
    "# getting a visualization of correlation with best fit line\n",
    "plt.figure(figsize = (8,8))\n",
    "sns.regplot(x = df[\"cap-color_class\"], y = df[\"odor_class\"], data = df)\n",
    "plt.show()\n",
    "plt.clf()"
   ]
  },
  {
   "cell_type": "code",
   "execution_count": 102,
   "id": "fa4457c0",
   "metadata": {},
   "outputs": [
    {
     "name": "stdout",
     "output_type": "stream",
     "text": [
      "0: 3.29\n",
      "1: 4.73\n",
      "2: 5.38\n",
      "3: 3.65\n",
      "4: 5.16\n",
      "5: 3.22\n",
      "6: 5.0\n",
      "7: 5.0\n",
      "8: 3.58\n",
      "9: 1.88\n"
     ]
    }
   ],
   "source": [
    "# getting mean odor classification for each cap color \n",
    "for cap_color in sorted(df[\"cap-color_class\"].unique()):\n",
    "    print(str(cap_color) + \": \" + str(round(df[\"odor_class\"][df[\"cap-color_class\"] == cap_color].mean(),2)))"
   ]
  },
  {
   "cell_type": "code",
   "execution_count": 105,
   "id": "eaf9abde",
   "metadata": {
    "scrolled": false
   },
   "outputs": [
    {
     "name": "stdout",
     "output_type": "stream",
     "text": [
      "odor_class              0         1         2         3         4         5  \\\n",
      "cap-color_class                                                               \n",
      "0                0.000000  0.000000  0.571429  0.000000  0.000000  0.428571   \n",
      "1                0.000000  0.000000  0.000000  0.000000  0.272727  0.727273   \n",
      "2                0.000000  0.000000  0.192000  0.000000  0.008000  0.416000   \n",
      "3                0.000000  0.034783  0.404348  0.000000  0.000000  0.560870   \n",
      "4                0.021016  0.000000  0.126095  0.021016  0.005254  0.518389   \n",
      "5                0.000000  0.444444  0.000000  0.000000  0.000000  0.555556   \n",
      "6                0.000000  0.000000  0.000000  0.000000  0.000000  1.000000   \n",
      "7                0.000000  0.000000  0.000000  0.000000  0.000000  1.000000   \n",
      "8                0.146154  0.061538  0.092308  0.146154  0.000000  0.430769   \n",
      "9                0.186567  0.000000  0.604478  0.186567  0.000000  0.022388   \n",
      "\n",
      "odor_class              6         7         8  \n",
      "cap-color_class                                \n",
      "0                0.000000  0.000000  0.000000  \n",
      "1                0.000000  0.000000  0.000000  \n",
      "2                0.000000  0.192000  0.192000  \n",
      "3                0.000000  0.000000  0.000000  \n",
      "4                0.056042  0.126095  0.126095  \n",
      "5                0.000000  0.000000  0.000000  \n",
      "6                0.000000  0.000000  0.000000  \n",
      "7                0.000000  0.000000  0.000000  \n",
      "8                0.123077  0.000000  0.000000  \n",
      "9                0.000000  0.000000  0.000000  \n"
     ]
    }
   ],
   "source": [
    "# creating a crosstab with percentage makeup \n",
    "print(pd.crosstab(df[\"cap-color_class\"], df[\"odor_class\"], normalize = \"index\"))"
   ]
  },
  {
   "cell_type": "code",
   "execution_count": 182,
   "id": "1122e561",
   "metadata": {},
   "outputs": [
    {
     "name": "stdout",
     "output_type": "stream",
     "text": [
      "[\"b'a'\" \"b'c'\" \"b'f'\" \"b'l'\" \"b'm'\" \"b'n'\" \"b'p'\" \"b's'\" \"b'y'\"]\n"
     ]
    }
   ],
   "source": [
    "# finding odor le class translations\n",
    "odor_le = le.fit(df[\"odor\"])\n",
    "odor_le_class = odor_le.classes_\n",
    "print(odor_le_class)"
   ]
  },
  {
   "cell_type": "code",
   "execution_count": 183,
   "id": "6cf2c6e9",
   "metadata": {
    "scrolled": true
   },
   "outputs": [
    {
     "name": "stdout",
     "output_type": "stream",
     "text": [
      "[\"b'b'\" \"b'c'\" \"b'e'\" \"b'g'\" \"b'n'\" \"b'p'\" \"b'r'\" \"b'u'\" \"b'w'\" \"b'y'\"]\n"
     ]
    }
   ],
   "source": [
    "# finding cap color le class translations\n",
    "cap_color_le = le.fit(df[\"cap-color\"])\n",
    "cap_color_le_class = cap_color_le.classes_\n",
    "print(cap_color_le_class)"
   ]
  },
  {
   "cell_type": "code",
   "execution_count": 187,
   "id": "6c7d7658",
   "metadata": {},
   "outputs": [
    {
     "name": "stdout",
     "output_type": "stream",
     "text": [
      "b'r' (green cap) mushrooms always smells like b'n' which is unscented.\n",
      "b'u' (purple cap) mushrooms always smells like b'n' which is unscented.\n"
     ]
    }
   ],
   "source": [
    "# finding which cap colors always smell like which odor\n",
    "print(cap_color_le_class[6] + \" (green cap) mushrooms always smells like \" + odor_le_class[5] + \" which is unscented.\")\n",
    "print(cap_color_le_class[7] + \" (purple cap) mushrooms always smells like \" + odor_le_class[5] + \" which is unscented.\")"
   ]
  }
 ],
 "metadata": {
  "kernelspec": {
   "display_name": "Python 3 (ipykernel)",
   "language": "python",
   "name": "python3"
  },
  "language_info": {
   "codemirror_mode": {
    "name": "ipython",
    "version": 3
   },
   "file_extension": ".py",
   "mimetype": "text/x-python",
   "name": "python",
   "nbconvert_exporter": "python",
   "pygments_lexer": "ipython3",
   "version": "3.9.7"
  }
 },
 "nbformat": 4,
 "nbformat_minor": 5
}
